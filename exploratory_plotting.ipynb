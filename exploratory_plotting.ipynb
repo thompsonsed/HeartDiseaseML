{
 "cells": [
  {
   "cell_type": "code",
   "execution_count": 1,
   "metadata": {},
   "outputs": [],
   "source": [
    "import os\n",
    "import numpy as np\n",
    "import pandas as pd\n",
    "import seaborn as sns\n",
    "import logging\n",
    "%matplotlib inline\n",
    "import matplotlib.pyplot as plt\n",
    "import sklearn as sk\n",
    "from sklearn.model_selection import train_test_split\n",
    "logging.getLogger(\"tensorflow\").setLevel(logging.ERROR)\n",
    "import tensorflow as tf\n",
    "from tensorflow.keras.models import Sequential\n",
    "from tensorflow.keras.layers import Dense, Activation, Flatten"
   ]
  },
  {
   "cell_type": "code",
   "execution_count": 2,
   "metadata": {},
   "outputs": [],
   "source": [
    "input_dir = \"data\""
   ]
  },
  {
   "cell_type": "code",
   "execution_count": 3,
   "metadata": {},
   "outputs": [
    {
     "data": {
      "text/html": [
       "<div>\n",
       "<style scoped>\n",
       "    .dataframe tbody tr th:only-of-type {\n",
       "        vertical-align: middle;\n",
       "    }\n",
       "\n",
       "    .dataframe tbody tr th {\n",
       "        vertical-align: top;\n",
       "    }\n",
       "\n",
       "    .dataframe thead th {\n",
       "        text-align: right;\n",
       "    }\n",
       "</style>\n",
       "<table border=\"1\" class=\"dataframe\">\n",
       "  <thead>\n",
       "    <tr style=\"text-align: right;\">\n",
       "      <th></th>\n",
       "      <th>age</th>\n",
       "      <th>resting_bp</th>\n",
       "      <th>serum_cholestrol</th>\n",
       "      <th>max_heart_rate</th>\n",
       "      <th>st_depression</th>\n",
       "      <th>major_vessels_no</th>\n",
       "      <th>target</th>\n",
       "      <th>sex_male</th>\n",
       "      <th>chest_pain_type_atypical_angina</th>\n",
       "      <th>chest_pain_type_non-typical_angina</th>\n",
       "      <th>chest_pain_type_typical_angina</th>\n",
       "      <th>fasting_blood_sugar_lower_than_120mg_per_ml</th>\n",
       "      <th>resting_ecg_left_ventrical_hypertrophy</th>\n",
       "      <th>resting_ecg_normal</th>\n",
       "      <th>exercise_ind_angina_yes</th>\n",
       "      <th>slope_flat</th>\n",
       "      <th>slope_upsloping</th>\n",
       "      <th>thal_fixed_defect</th>\n",
       "      <th>thal_normal</th>\n",
       "      <th>thal_reversible_defect</th>\n",
       "    </tr>\n",
       "  </thead>\n",
       "  <tbody>\n",
       "    <tr>\n",
       "      <th>0</th>\n",
       "      <td>63</td>\n",
       "      <td>145</td>\n",
       "      <td>233</td>\n",
       "      <td>150</td>\n",
       "      <td>2.3</td>\n",
       "      <td>0</td>\n",
       "      <td>1</td>\n",
       "      <td>1</td>\n",
       "      <td>0</td>\n",
       "      <td>1</td>\n",
       "      <td>0</td>\n",
       "      <td>0</td>\n",
       "      <td>0</td>\n",
       "      <td>1</td>\n",
       "      <td>0</td>\n",
       "      <td>0</td>\n",
       "      <td>0</td>\n",
       "      <td>0</td>\n",
       "      <td>1</td>\n",
       "      <td>0</td>\n",
       "    </tr>\n",
       "    <tr>\n",
       "      <th>1</th>\n",
       "      <td>37</td>\n",
       "      <td>130</td>\n",
       "      <td>250</td>\n",
       "      <td>187</td>\n",
       "      <td>3.5</td>\n",
       "      <td>0</td>\n",
       "      <td>1</td>\n",
       "      <td>1</td>\n",
       "      <td>1</td>\n",
       "      <td>0</td>\n",
       "      <td>0</td>\n",
       "      <td>1</td>\n",
       "      <td>0</td>\n",
       "      <td>0</td>\n",
       "      <td>0</td>\n",
       "      <td>0</td>\n",
       "      <td>0</td>\n",
       "      <td>1</td>\n",
       "      <td>0</td>\n",
       "      <td>0</td>\n",
       "    </tr>\n",
       "    <tr>\n",
       "      <th>2</th>\n",
       "      <td>41</td>\n",
       "      <td>130</td>\n",
       "      <td>204</td>\n",
       "      <td>172</td>\n",
       "      <td>1.4</td>\n",
       "      <td>0</td>\n",
       "      <td>1</td>\n",
       "      <td>0</td>\n",
       "      <td>0</td>\n",
       "      <td>0</td>\n",
       "      <td>1</td>\n",
       "      <td>1</td>\n",
       "      <td>0</td>\n",
       "      <td>1</td>\n",
       "      <td>0</td>\n",
       "      <td>1</td>\n",
       "      <td>0</td>\n",
       "      <td>1</td>\n",
       "      <td>0</td>\n",
       "      <td>0</td>\n",
       "    </tr>\n",
       "    <tr>\n",
       "      <th>3</th>\n",
       "      <td>56</td>\n",
       "      <td>120</td>\n",
       "      <td>236</td>\n",
       "      <td>178</td>\n",
       "      <td>0.8</td>\n",
       "      <td>0</td>\n",
       "      <td>1</td>\n",
       "      <td>1</td>\n",
       "      <td>0</td>\n",
       "      <td>0</td>\n",
       "      <td>1</td>\n",
       "      <td>1</td>\n",
       "      <td>0</td>\n",
       "      <td>0</td>\n",
       "      <td>0</td>\n",
       "      <td>1</td>\n",
       "      <td>0</td>\n",
       "      <td>1</td>\n",
       "      <td>0</td>\n",
       "      <td>0</td>\n",
       "    </tr>\n",
       "    <tr>\n",
       "      <th>4</th>\n",
       "      <td>57</td>\n",
       "      <td>120</td>\n",
       "      <td>354</td>\n",
       "      <td>163</td>\n",
       "      <td>0.6</td>\n",
       "      <td>0</td>\n",
       "      <td>1</td>\n",
       "      <td>0</td>\n",
       "      <td>0</td>\n",
       "      <td>0</td>\n",
       "      <td>0</td>\n",
       "      <td>1</td>\n",
       "      <td>0</td>\n",
       "      <td>0</td>\n",
       "      <td>1</td>\n",
       "      <td>1</td>\n",
       "      <td>0</td>\n",
       "      <td>1</td>\n",
       "      <td>0</td>\n",
       "      <td>0</td>\n",
       "    </tr>\n",
       "  </tbody>\n",
       "</table>\n",
       "</div>"
      ],
      "text/plain": [
       "   age  resting_bp  serum_cholestrol  max_heart_rate  st_depression  \\\n",
       "0   63         145               233             150            2.3   \n",
       "1   37         130               250             187            3.5   \n",
       "2   41         130               204             172            1.4   \n",
       "3   56         120               236             178            0.8   \n",
       "4   57         120               354             163            0.6   \n",
       "\n",
       "   major_vessels_no  target  sex_male  chest_pain_type_atypical_angina  \\\n",
       "0                 0       1         1                                0   \n",
       "1                 0       1         1                                1   \n",
       "2                 0       1         0                                0   \n",
       "3                 0       1         1                                0   \n",
       "4                 0       1         0                                0   \n",
       "\n",
       "   chest_pain_type_non-typical_angina  chest_pain_type_typical_angina  \\\n",
       "0                                   1                               0   \n",
       "1                                   0                               0   \n",
       "2                                   0                               1   \n",
       "3                                   0                               1   \n",
       "4                                   0                               0   \n",
       "\n",
       "   fasting_blood_sugar_lower_than_120mg_per_ml  \\\n",
       "0                                            0   \n",
       "1                                            1   \n",
       "2                                            1   \n",
       "3                                            1   \n",
       "4                                            1   \n",
       "\n",
       "   resting_ecg_left_ventrical_hypertrophy  resting_ecg_normal  \\\n",
       "0                                       0                   1   \n",
       "1                                       0                   0   \n",
       "2                                       0                   1   \n",
       "3                                       0                   0   \n",
       "4                                       0                   0   \n",
       "\n",
       "   exercise_ind_angina_yes  slope_flat  slope_upsloping  thal_fixed_defect  \\\n",
       "0                        0           0                0                  0   \n",
       "1                        0           0                0                  1   \n",
       "2                        0           1                0                  1   \n",
       "3                        0           1                0                  1   \n",
       "4                        1           1                0                  1   \n",
       "\n",
       "   thal_normal  thal_reversible_defect  \n",
       "0            1                       0  \n",
       "1            0                       0  \n",
       "2            0                       0  \n",
       "3            0                       0  \n",
       "4            0                       0  "
      ]
     },
     "execution_count": 3,
     "metadata": {},
     "output_type": "execute_result"
    }
   ],
   "source": [
    "# This data was downloaded from https://www.kaggle.com/ronitf/heart-disease-uci\n",
    "heart_data = pd.read_csv(os.path.join(input_dir, \"heart.csv\"))\n",
    "# Rename the variables to something more meaningful\n",
    "heart_data.rename(index=str, columns={\"cp\": \"chest_pain_type\", \"trestbps\": \"resting_bp\",\n",
    "                                     \"chol\": \"serum_cholestrol\", \"fbs\" : \"fasting_blood_sugar\",\n",
    "                                     \"restecg\" : \"resting_ecg\", \n",
    "                                     \"thalach\" : \"max_heart_rate\",\n",
    "                                     \"exang\" : \"exercise_ind_angina\",\n",
    "                                     \"oldpeak\" : \"st_depression\",\n",
    "                                     \"ca\" : \"major_vessels_no\"}, inplace=True)\n",
    "# Now recode our variables to the correct data type and then generate dummy variables\n",
    "heart_data.sex.replace({0: \"female\", 1: \"male\"}, inplace=True)\n",
    "heart_data.chest_pain_type.replace(\n",
    "    {1: \"typical_angina\", 2: \"atypical_angina\", 3: \"non-typical_angina\", 4: \"asymtomatic\"}, inplace=True\n",
    ")\n",
    "heart_data.fasting_blood_sugar.replace({0: \"lower_than_120mg_per_ml\", 1: \"greater_than_120mg_per_ml\"}, inplace=True)\n",
    "heart_data.resting_ecg.replace({0: \"normal\", 1: \"ST-T_wave_abnormality\", 2: \"left_ventrical_hypertrophy\"}, inplace=True)\n",
    "heart_data.exercise_ind_angina.replace({0: \"no\", 1: \"yes\"}, inplace=True)\n",
    "heart_data.slope.replace({1: \"upsloping\", 2: \"flat\", 3: \"downsloping\"}, inplace=True)\n",
    "heart_data.thal.replace({1: \"normal\", 2: \"fixed_defect\", 3: \"reversible_defect\"}, inplace=True)\n",
    "heart_data = pd.get_dummies(heart_data, drop_first=True, sparse=True)\n",
    "heart_data.head()"
   ]
  },
  {
   "cell_type": "code",
   "execution_count": 4,
   "metadata": {
    "scrolled": false
   },
   "outputs": [
    {
     "data": {
      "text/plain": [
       "age                                                       int64\n",
       "resting_bp                                                int64\n",
       "serum_cholestrol                                          int64\n",
       "max_heart_rate                                            int64\n",
       "st_depression                                           float64\n",
       "major_vessels_no                                          int64\n",
       "target                                                    int64\n",
       "sex_male                                       Sparse[uint8, 0]\n",
       "chest_pain_type_atypical_angina                Sparse[uint8, 0]\n",
       "chest_pain_type_non-typical_angina             Sparse[uint8, 0]\n",
       "chest_pain_type_typical_angina                 Sparse[uint8, 0]\n",
       "fasting_blood_sugar_lower_than_120mg_per_ml    Sparse[uint8, 0]\n",
       "resting_ecg_left_ventrical_hypertrophy         Sparse[uint8, 0]\n",
       "resting_ecg_normal                             Sparse[uint8, 0]\n",
       "exercise_ind_angina_yes                        Sparse[uint8, 0]\n",
       "slope_flat                                     Sparse[uint8, 0]\n",
       "slope_upsloping                                Sparse[uint8, 0]\n",
       "thal_fixed_defect                              Sparse[uint8, 0]\n",
       "thal_normal                                    Sparse[uint8, 0]\n",
       "thal_reversible_defect                         Sparse[uint8, 0]\n",
       "dtype: object"
      ]
     },
     "execution_count": 4,
     "metadata": {},
     "output_type": "execute_result"
    }
   ],
   "source": [
    "heart_data.dtypes"
   ]
  },
  {
   "cell_type": "markdown",
   "metadata": {},
   "source": [
    "### Plot the correlation between each pair of variables\n",
    "\n",
    "High correlation between variables is something to bare in mind for the rest of the analysis"
   ]
  },
  {
   "cell_type": "code",
   "execution_count": 5,
   "metadata": {},
   "outputs": [
    {
     "data": {
      "image/png": "[encoded data removed]",
      "text/plain": [
       "<Figure size 432x432 with 2 Axes>"
      ]
     },
     "metadata": {
      "needs_background": "light"
     },
     "output_type": "display_data"
    }
   ],
   "source": [
    "sns.heatmap(heart_data.corr(),\n",
    "                cmap='Spectral') \n",
    "fig=plt.gcf()\n",
    "fig.set_size_inches(6,6)\n",
    "plt.show()"
   ]
  },
  {
   "cell_type": "markdown",
   "metadata": {},
   "source": [
    "We also want to know what the correlation is between each variable and the target.\n",
    "\n",
    "Note that the exercise induced angina has the greatest correlation with the target."
   ]
  },
  {
   "cell_type": "code",
   "execution_count": 6,
   "metadata": {},
   "outputs": [
    {
     "data": {
      "text/plain": [
       "fasting_blood_sugar_lower_than_120mg_per_ml    0.028046\n",
       "resting_ecg_left_ventrical_hypertrophy         0.068410\n",
       "serum_cholestrol                               0.085239\n",
       "chest_pain_type_non-typical_angina             0.086957\n",
       "thal_normal                                    0.106589\n",
       "resting_bp                                     0.144931\n",
       "resting_ecg_normal                             0.159775\n",
       "age                                            0.225439\n",
       "chest_pain_type_typical_angina                 0.245879\n",
       "sex_male                                       0.280937\n",
       "chest_pain_type_atypical_angina                0.316742\n",
       "slope_upsloping                                0.362053\n",
       "major_vessels_no                               0.391724\n",
       "slope_flat                                     0.394066\n",
       "max_heart_rate                                 0.421741\n",
       "st_depression                                  0.430696\n",
       "exercise_ind_angina_yes                        0.436757\n",
       "thal_reversible_defect                         0.486112\n",
       "thal_fixed_defect                              0.527334\n",
       "target                                         1.000000\n",
       "Name: target, dtype: float64"
      ]
     },
     "execution_count": 6,
     "metadata": {},
     "output_type": "execute_result"
    }
   ],
   "source": [
    "corr = heart_data.corr()['target'].abs().sort_values()\n",
    "corr"
   ]
  },
  {
   "cell_type": "markdown",
   "metadata": {},
   "source": [
    "# Define the feature columns"
   ]
  },
  {
   "cell_type": "code",
   "execution_count": 7,
   "metadata": {},
   "outputs": [
    {
     "data": {
      "text/plain": [
       "19"
      ]
     },
     "execution_count": 7,
     "metadata": {},
     "output_type": "execute_result"
    }
   ],
   "source": [
    "feature_columns = []\n",
    "numerics = ['int16', 'int32', 'int64', 'float16', 'float32', 'float64', \"uint8\"]\n",
    "numeric_df = heart_data.select_dtypes(include=numerics).drop([\"target\"], axis=1)\n",
    "for feature_name in numeric_df.columns:\n",
    "  feature_columns.append(tf.feature_column.numeric_column(feature_name, dtype=tf.float32))\n",
    "len(feature_columns)"
   ]
  },
  {
   "cell_type": "markdown",
   "metadata": {},
   "source": [
    "# Split the data into training, test and validation datasets"
   ]
  },
  {
   "cell_type": "code",
   "execution_count": 8,
   "metadata": {},
   "outputs": [],
   "source": [
    "# Split the data into a test and training dataset\n",
    "train, test = train_test_split(heart_data, test_size=0.2, random_state=11)\n",
    "test, validation = train_test_split(test, test_size=0.2, random_state=11)\n",
    "y_train = train[\"target\"]\n",
    "y_test = test[\"target\"]\n",
    "y_validation = validation[\"target\"]"
   ]
  },
  {
   "cell_type": "code",
   "execution_count": 9,
   "metadata": {},
   "outputs": [],
   "source": [
    "# Convenience function\n",
    "def df_to_dataset(dataframe, shuffle=True, batch_size=32):\n",
    "    \"\"\"Create a tensorflow dataset from a pandas dataset.\"\"\"\n",
    "    dataframe = dataframe.copy()\n",
    "    labels = dataframe.pop('target')\n",
    "    ds = tf.data.Dataset.from_tensor_slices((dict(dataframe), labels))\n",
    "    if shuffle:\n",
    "        ds = ds.shuffle(buffer_size=len(dataframe))\n",
    "        ds = ds.batch(batch_size)\n",
    "    return ds"
   ]
  },
  {
   "cell_type": "code",
   "execution_count": 10,
   "metadata": {},
   "outputs": [],
   "source": [
    "batch_size = 1000\n",
    "train_ds = df_to_dataset(train, batch_size=batch_size)\n",
    "val_ds = df_to_dataset(validation, shuffle=False, batch_size=batch_size)\n",
    "test_ds = df_to_dataset(test, shuffle=False, batch_size=batch_size)"
   ]
  },
  {
   "cell_type": "markdown",
   "metadata": {},
   "source": [
    "# Generate the input functions function"
   ]
  },
  {
   "cell_type": "code",
   "execution_count": 11,
   "metadata": {},
   "outputs": [],
   "source": [
    "# Adapted from https://medium.com/tensorflow/how-to-train-boosted-trees-models-in-tensorflow-ca8466a53127\n",
    "def make_input_fn(X, y, n_epochs=None, shuffle=True):\n",
    "    # Use entire batch since this is such a small dataset.\n",
    "    number_examples = len(y_train)\n",
    "    def input_fn():\n",
    "        \"\"\"The input function to apply.\"\"\"\n",
    "        dataset = tf.data.Dataset.from_tensor_slices((dict(X), y))\n",
    "        if shuffle:\n",
    "            dataset = dataset.shuffle(number_examples)\n",
    "        # For training, cycle thru dataset as many times as need (n_epochs=None).    \n",
    "        dataset = dataset.repeat(n_epochs)\n",
    "        # In memory training doesn't use batching.\n",
    "        dataset = dataset.batch(number_examples)\n",
    "        return dataset\n",
    "    return input_fn\n",
    "\n",
    "# Training and evaluation input functions.\n",
    "train_input_fn = make_input_fn(train, y_train)\n",
    "eval_input_fn = make_input_fn(test, y_test, shuffle=False, n_epochs=100)"
   ]
  },
  {
   "cell_type": "markdown",
   "metadata": {},
   "source": [
    "# Provide a baseline using Linear Regression"
   ]
  },
  {
   "cell_type": "code",
   "execution_count": 12,
   "metadata": {},
   "outputs": [
    {
     "data": {
      "text/plain": [
       "{'accuracy': 0.75,\n",
       " 'accuracy_baseline': 0.6666667,\n",
       " 'auc': 0.85253906,\n",
       " 'auc_precision_recall': 0.9141391,\n",
       " 'average_loss': 0.89697737,\n",
       " 'label/mean': 0.6666667,\n",
       " 'loss': 0.8967992,\n",
       " 'precision': 0.7631579,\n",
       " 'prediction/mean': 0.781269,\n",
       " 'recall': 0.90625,\n",
       " 'global_step': 100}"
      ]
     },
     "execution_count": 12,
     "metadata": {},
     "output_type": "execute_result"
    }
   ],
   "source": [
    "linear_est = tf.estimator.LinearClassifier(feature_columns=feature_columns)\n",
    "linear_est.train(input_fn=train_input_fn, max_steps=100)\n",
    "result_linear = linear_est.evaluate(input_fn=eval_input_fn)\n",
    "result_linear\n"
   ]
  },
  {
   "cell_type": "code",
   "execution_count": 15,
   "metadata": {},
   "outputs": [
    {
     "ename": "TypeError",
     "evalue": "export_saved_model() missing 1 required positional argument: 'serving_input_receiver_fn'",
     "output_type": "error",
     "traceback": [
      "\u001b[0;31m---------------------------------------------------------------------------\u001b[0m",
      "\u001b[0;31mTypeError\u001b[0m                                 Traceback (most recent call last)",
      "\u001b[0;32m<ipython-input-15-a268989d784e>\u001b[0m in \u001b[0;36m<module>\u001b[0;34m\u001b[0m\n\u001b[0;32m----> 1\u001b[0;31m \u001b[0mbt\u001b[0m\u001b[0;34m.\u001b[0m\u001b[0mexport_saved_model\u001b[0m\u001b[0;34m(\u001b[0m\u001b[0mexport_dir_base\u001b[0m\u001b[0;34m=\u001b[0m\u001b[0;34m\"outputs\"\u001b[0m\u001b[0;34m)\u001b[0m\u001b[0;34m\u001b[0m\u001b[0;34m\u001b[0m\u001b[0m\n\u001b[0m",
      "\u001b[0;31mTypeError\u001b[0m: export_saved_model() missing 1 required positional argument: 'serving_input_receiver_fn'"
     ]
    }
   ],
   "source": [
    "bt.export_saved_model(export_dir_base=\"outputs\")\n"
   ]
  },
  {
   "cell_type": "code",
   "execution_count": 48,
   "metadata": {},
   "outputs": [
    {
     "data": {
      "text/plain": [
       "{}"
      ]
     },
     "execution_count": 48,
     "metadata": {},
     "output_type": "execute_result"
    }
   ],
   "source": [
    "# importances_linear = pd.Series(linear_est.experimental_feature_importances(normalize=True))\n",
    "# sns.set(style=\"whitegrid\")\n",
    "# ax = sns.barplot(importances_linear.values, importances_linear.index, palette=sns.color_palette(\"muted\"))\n",
    "# sns.despine(left=True, bottom=True)\n",
    "linear_est.params"
   ]
  },
  {
   "cell_type": "markdown",
   "metadata": {},
   "source": [
    "# Second model - Random Forest\n",
    "\n",
    "Fits a decision tree-based model to the data"
   ]
  },
  {
   "cell_type": "code",
   "execution_count": 13,
   "metadata": {},
   "outputs": [
    {
     "data": {
      "text/plain": [
       "{'accuracy': 0.75,\n",
       " 'accuracy_baseline': 0.6666667,\n",
       " 'auc': 0.8232422,\n",
       " 'auc_precision_recall': 0.91562444,\n",
       " 'average_loss': 0.86108094,\n",
       " 'label/mean': 0.6666667,\n",
       " 'loss': 0.8609784,\n",
       " 'precision': 0.8333333,\n",
       " 'prediction/mean': 0.60070026,\n",
       " 'recall': 0.78125,\n",
       " 'global_step': 100}"
      ]
     },
     "execution_count": 13,
     "metadata": {},
     "output_type": "execute_result"
    }
   ],
   "source": [
    "# Since data fits into memory, use entire dataset per layer. It will be faster.\n",
    "# Above one batch is defined as the entire dataset. \n",
    "n_batches = 1\n",
    "bt = tf.estimator.BoostedTreesClassifier(feature_columns=feature_columns,\n",
    "                                          n_batches_per_layer=n_batches)\n",
    "\n",
    "# The model will stop training once the specified number of trees is built, not \n",
    "# based on the number of steps.\n",
    "bt.train(train_input_fn, max_steps=100)\n",
    "\n",
    "# Eval.\n",
    "result_random_forest = bt.evaluate(eval_input_fn)\n",
    "result_random_forest"
   ]
  },
  {
   "cell_type": "markdown",
   "metadata": {},
   "source": [
    "# Plot the importance of difference factors in the decision tree\n",
    "\n",
    "As expected, age comes out as the most importance factor, closely followed by the number of major vessels and the serum cholestrol"
   ]
  },
  {
   "cell_type": "code",
   "execution_count": 14,
   "metadata": {},
   "outputs": [
    {
     "data": {
      "image/png": "[encoded data removed]",
      "text/plain": [
       "<Figure size 432x288 with 1 Axes>"
      ]
     },
     "metadata": {},
     "output_type": "display_data"
    }
   ],
   "source": [
    "importances = pd.Series(bt.experimental_feature_importances(normalize=True))\n",
    "sns.set(style=\"whitegrid\")\n",
    "ax = sns.barplot(importances.values, importances.index, palette=sns.color_palette(\"muted\"))\n",
    "sns.despine(left=True, bottom=True)"
   ]
  },
  {
   "cell_type": "code",
   "execution_count": null,
   "metadata": {},
   "outputs": [],
   "source": [
    "export_graphviz(estimator, out_file='tree.dot', \n",
    "                feature_names = feature_names,\n",
    "                class_names = y_train_str,\n",
    "                rounded = True, proportion = True, \n",
    "                label='root',\n",
    "                precision = 2, filled = True)"
   ]
  },
  {
   "cell_type": "code",
   "execution_count": null,
   "metadata": {},
   "outputs": [],
   "source": [
    "bt.expo"
   ]
  }
 ],
 "metadata": {
  "kernelspec": {
   "display_name": "Python 3",
   "language": "python",
   "name": "python3"
  },
  "language_info": {
   "codemirror_mode": {
    "name": "ipython",
    "version": 3
   },
   "file_extension": ".py",
   "mimetype": "text/x-python",
   "name": "python",
   "nbconvert_exporter": "python",
   "pygments_lexer": "ipython3",
   "version": "3.6.8"
  }
 },
 "nbformat": 4,
 "nbformat_minor": 2
}
